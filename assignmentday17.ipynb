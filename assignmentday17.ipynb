{
 "cells": [
  {
   "cell_type": "code",
   "execution_count": 125,
   "metadata": {},
   "outputs": [],
   "source": [
    "import numpy as np\n",
    "import pandas as pd\n",
    "import matplotlib.pyplot as plt"
   ]
  },
  {
   "cell_type": "markdown",
   "metadata": {},
   "source": [
    "question1)Write a program to find average of all the even numbers, and\n",
    "odd number that are present in the list. And also your program\n",
    "shold be return no. of evens and odd are present in this list List\n",
    "for your reference\n",
    "lst = [25,41,85,96,35,64,75,9,12,21,32,23,25,56]"
   ]
  },
  {
   "cell_type": "code",
   "execution_count": 126,
   "metadata": {},
   "outputs": [],
   "source": [
    "lst = [25,41,85,96,35,64,75,9,12,21,32,23,25,56]"
   ]
  },
  {
   "cell_type": "code",
   "execution_count": 127,
   "metadata": {},
   "outputs": [],
   "source": [
    "even=[]\n",
    "odd=[]\n",
    "for item in lst:\n",
    "    if item%2==0:\n",
    "        even.append(item)\n",
    "    else:\n",
    "        odd.append(item)\n"
   ]
  },
  {
   "cell_type": "code",
   "execution_count": 128,
   "metadata": {},
   "outputs": [
    {
     "name": "stdout",
     "output_type": "stream",
     "text": [
      "total even no. in the list are  5\n",
      "average of even is 52.0\n"
     ]
    }
   ],
   "source": [
    "total_sum_even=sum(even)\n",
    "total_even=len(even)\n",
    "avg_even=total_sum_even/total_even\n",
    "print('total even no. in the list are ',total_even)\n",
    "print('average of even is',avg_even)"
   ]
  },
  {
   "cell_type": "code",
   "execution_count": 129,
   "metadata": {},
   "outputs": [
    {
     "name": "stdout",
     "output_type": "stream",
     "text": [
      "total even no. in the list are  9\n",
      "average of odd is 37.666666666666664\n"
     ]
    }
   ],
   "source": [
    "total_sum_odd=sum(odd)\n",
    "total_odd=len(odd)\n",
    "avg_odd=total_sum_odd/total_odd\n",
    "print('total even no. in the list are ',total_odd)\n",
    "print('average of odd is',avg_odd)"
   ]
  },
  {
   "cell_type": "markdown",
   "metadata": {},
   "source": [
    "question2)Write a program to find the target element from the list, with\n",
    "linear search and Binary Search.\n"
   ]
  },
  {
   "cell_type": "markdown",
   "metadata": {},
   "source": [
    "Linear search-Searches for an element by visiting all the elements sequentially until the element is found."
   ]
  },
  {
   "cell_type": "markdown",
   "metadata": {},
   "source": [
    "Binary search-Searches for an element by breaking the search space into half in a sorted array.\n"
   ]
  },
  {
   "cell_type": "code",
   "execution_count": 130,
   "metadata": {},
   "outputs": [
    {
     "data": {
      "text/plain": [
       "array([25, 41, 85, 96, 35, 64, 75,  9, 12, 21, 32, 23, 25, 56])"
      ]
     },
     "execution_count": 130,
     "metadata": {},
     "output_type": "execute_result"
    }
   ],
   "source": [
    "df=np.array(lst)\n",
    "df"
   ]
  },
  {
   "cell_type": "code",
   "execution_count": 131,
   "metadata": {},
   "outputs": [],
   "source": [
    "target_element=64"
   ]
  },
  {
   "cell_type": "markdown",
   "metadata": {},
   "source": [
    "**Linear search**"
   ]
  },
  {
   "cell_type": "code",
   "execution_count": 132,
   "metadata": {},
   "outputs": [
    {
     "name": "stdout",
     "output_type": "stream",
     "text": [
      "target element found at index  5\n"
     ]
    }
   ],
   "source": [
    "n=-1\n",
    "for i in df:\n",
    "    n+=1\n",
    "    if i==target_element:\n",
    "        print(\"target element found at index \",n)"
   ]
  },
  {
   "cell_type": "markdown",
   "metadata": {},
   "source": [
    "**Binary search**"
   ]
  },
  {
   "cell_type": "code",
   "execution_count": 133,
   "metadata": {},
   "outputs": [
    {
     "data": {
      "text/plain": [
       "array([25, 41, 85, 96, 35, 64, 75,  9, 12, 21, 32, 23, 25, 56])"
      ]
     },
     "execution_count": 133,
     "metadata": {},
     "output_type": "execute_result"
    }
   ],
   "source": [
    "df"
   ]
  },
  {
   "cell_type": "code",
   "execution_count": 134,
   "metadata": {},
   "outputs": [],
   "source": [
    "df.sort()"
   ]
  },
  {
   "cell_type": "code",
   "execution_count": 135,
   "metadata": {},
   "outputs": [
    {
     "data": {
      "text/plain": [
       "array([ 9, 12, 21, 23, 25, 25, 32, 35, 41, 56, 64, 75, 85, 96])"
      ]
     },
     "execution_count": 135,
     "metadata": {},
     "output_type": "execute_result"
    }
   ],
   "source": [
    "df"
   ]
  },
  {
   "cell_type": "code",
   "execution_count": 136,
   "metadata": {},
   "outputs": [
    {
     "name": "stdout",
     "output_type": "stream",
     "text": [
      "element found at index 10\n"
     ]
    }
   ],
   "source": [
    "def binary_search(df,target_element):\n",
    "    low=0\n",
    "    high=13\n",
    "    while (low<=high):\n",
    "        mid= (high +low)//2\n",
    "        if(df[mid]==target_element):\n",
    "            return mid\n",
    "        elif(df[mid]<target_element):\n",
    "            low=mid+1\n",
    "        else:\n",
    "             high=mid-1\n",
    "    return -1\n",
    "result=binary_search(df,target_element)\n",
    "print('element found at index',result)"
   ]
  },
  {
   "cell_type": "markdown",
   "metadata": {},
   "source": [
    "Learn about list comprehension and write a program to\n",
    "generate a list of square element from this given list and also\n",
    "try to filter all the even numbers from the given list using list\n",
    "comprehension.\n",
    "lst = [25,41,85,96,35,64,75,9,12,21,32,23,25,56]"
   ]
  },
  {
   "cell_type": "markdown",
   "metadata": {},
   "source": [
    "list comprehension-concise way to create python list"
   ]
  },
  {
   "cell_type": "code",
   "execution_count": 137,
   "metadata": {},
   "outputs": [],
   "source": [
    "lst = [25,41,85,96,35,64,75,9,12,21,32,23,25,56]"
   ]
  },
  {
   "cell_type": "code",
   "execution_count": 138,
   "metadata": {},
   "outputs": [],
   "source": [
    "square=[i**2 for i in lst]"
   ]
  },
  {
   "cell_type": "code",
   "execution_count": 139,
   "metadata": {},
   "outputs": [
    {
     "data": {
      "text/plain": [
       "[625, 1681, 7225, 9216, 1225, 4096, 5625, 81, 144, 441, 1024, 529, 625, 3136]"
      ]
     },
     "execution_count": 139,
     "metadata": {},
     "output_type": "execute_result"
    }
   ],
   "source": [
    "square"
   ]
  },
  {
   "cell_type": "code",
   "execution_count": 140,
   "metadata": {},
   "outputs": [],
   "source": [
    "even=[i for i in lst if i%2==0]"
   ]
  },
  {
   "cell_type": "code",
   "execution_count": 141,
   "metadata": {},
   "outputs": [
    {
     "data": {
      "text/plain": [
       "[96, 64, 12, 32, 56]"
      ]
     },
     "execution_count": 141,
     "metadata": {},
     "output_type": "execute_result"
    }
   ],
   "source": [
    "even"
   ]
  },
  {
   "cell_type": "markdown",
   "metadata": {},
   "source": [
    "**LIFE CYCLE OF MACHINE LEARNING**"
   ]
  },
  {
   "cell_type": "markdown",
   "metadata": {},
   "source": [
    "Firstly problem which we want to solve is discovered,then related data whichhas to be trained is searched,then it is preprocessed for the purpose of being trained,then data analysis is done,then data is trained and tested based on the algorithm required and lastly data is deployed that means used in real world"
   ]
  }
 ],
 "metadata": {
  "kernelspec": {
   "display_name": "Python 3",
   "language": "python",
   "name": "python3"
  },
  "language_info": {
   "codemirror_mode": {
    "name": "ipython",
    "version": 3
   },
   "file_extension": ".py",
   "mimetype": "text/x-python",
   "name": "python",
   "nbconvert_exporter": "python",
   "pygments_lexer": "ipython3",
   "version": "3.11.5"
  }
 },
 "nbformat": 4,
 "nbformat_minor": 2
}
